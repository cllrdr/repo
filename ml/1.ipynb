{
 "cells": [
  {
   "cell_type": "code",
   "execution_count": 1,
   "metadata": {},
   "outputs": [
    {
     "name": "stdout",
     "output_type": "stream",
     "text": [
      "[1, 4, 9, 16, 25]\n"
     ]
    }
   ],
   "source": [
    "arr = [1, 2, 3, 4 ,5]\n",
    "res = []\n",
    "\n",
    "for i in arr:\n",
    "    res.append(i**2)\n",
    "\n",
    "print(res)"
   ]
  },
  {
   "cell_type": "code",
   "execution_count": 2,
   "metadata": {},
   "outputs": [
    {
     "name": "stdout",
     "output_type": "stream",
     "text": [
      "[1, 4, 9, 16, 25]\n"
     ]
    }
   ],
   "source": [
    "class Class1:\n",
    "\n",
    "    def __init__(self):\n",
    "        self.array = [1,2,3,4,5]\n",
    "        self.res = []\n",
    "\n",
    "    def make1(self, array):\n",
    "        for i in self.array:\n",
    "            self.res.append(i**2)\n",
    "\n",
    "    def write(self):\n",
    "        print(self.res)\n",
    "\n",
    "if __name__=='__main__':\n",
    "    cl1 = Class1()\n",
    "    cl1.make1(cl1.array)\n",
    "    cl1.write()"
   ]
  },
  {
   "cell_type": "code",
   "execution_count": 7,
   "metadata": {},
   "outputs": [
    {
     "name": "stdout",
     "output_type": "stream",
     "text": [
      "[1, 4, 9, 16, 25]\n",
      "[1, 4, 9, 16, 25]\n"
     ]
    }
   ],
   "source": [
    "class Class1:\n",
    "\n",
    "    def __init__(self):\n",
    "        self.array = [1,2,3,4,5]\n",
    "        self.res = []\n",
    "        self.res2 = []\n",
    "\n",
    "    def make1(self, array):\n",
    "        for i in self.array:\n",
    "            self.res.append(i**2)\n",
    "\n",
    "    def square(self, i):\n",
    "        return i**2\n",
    "\n",
    "    def make2(self, arr):\n",
    "        #self.res2 = [i**2 for i in arr]\n",
    "        #self.res2 = list(map(self.square, arr))\n",
    "        self.res2 = list(map(lambda x: x**2, arr))\n",
    "\n",
    "    def write(self):\n",
    "        print(self.res)\n",
    "\n",
    "    def write2(self):\n",
    "        print(self.res)\n",
    "\n",
    "if __name__=='__main__':\n",
    "    cl1 = Class1()\n",
    "    cl1.make1(cl1.array)\n",
    "    cl1.write()\n",
    "    cl1.make2(cl1.array)\n",
    "    cl1.write2()"
   ]
  },
  {
   "cell_type": "code",
   "execution_count": 11,
   "metadata": {},
   "outputs": [
    {
     "name": "stdout",
     "output_type": "stream",
     "text": [
      "0b101\n",
      "0o11\n",
      "0xd\n",
      "string\n",
      "st\n",
      "tig\n",
      "strin\n",
      "gnirts\n"
     ]
    },
    {
     "data": {
      "text/plain": [
       "'object 1 and oobject 2'"
      ]
     },
     "execution_count": 11,
     "metadata": {},
     "output_type": "execute_result"
    }
   ],
   "source": [
    "print(bin(5))\n",
    "print(oct(9))\n",
    "print(hex(13))\n",
    "\n",
    "str = \"string\"\n",
    "\n",
    "print(str)\n",
    "print(str[0:2])\n",
    "print(str[1::2])\n",
    "print(str[:-1])\n",
    "print(str[::-1])\n",
    "\n",
    "'object {} and oobject {}'.format(1, 2)"
   ]
  }
 ],
 "metadata": {
  "kernelspec": {
   "display_name": "usr",
   "language": "python",
   "name": "python3"
  },
  "language_info": {
   "codemirror_mode": {
    "name": "ipython",
    "version": 3
   },
   "file_extension": ".py",
   "mimetype": "text/x-python",
   "name": "python",
   "nbconvert_exporter": "python",
   "pygments_lexer": "ipython3",
   "version": "3.12.3"
  }
 },
 "nbformat": 4,
 "nbformat_minor": 2
}
