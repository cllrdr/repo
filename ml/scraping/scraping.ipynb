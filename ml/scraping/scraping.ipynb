{
 "cells": [
  {
   "cell_type": "code",
   "execution_count": 2,
   "id": "f5d495bf",
   "metadata": {},
   "outputs": [],
   "source": [
    "from bs4 import BeautifulSoup\n",
    "import pandas as pd\n",
    "import requests"
   ]
  },
  {
   "cell_type": "code",
   "execution_count": 3,
   "id": "c6b667e8",
   "metadata": {},
   "outputs": [],
   "source": [
    "\n",
    "# Обращение к странице (wiki - таблица с самыми длинными реками)\n",
    "url = 'https://ru.wikipedia.org/wiki/%D0%A1%D0%BF%D0%B8%D1%81%D0%BE%D0%BA_%D1%80%D0%B5%D0%BA_%D0%BF%D0%BE_%D0%B4%D0%BB%D0%B8%D0%BD%D0%B5'\n",
    "# Запрос с помощью библиотеки Requests\n",
    "html_content = requests.get(url).text"
   ]
  },
  {
   "cell_type": "code",
   "execution_count": 4,
   "id": "779cfb4e",
   "metadata": {},
   "outputs": [],
   "source": [
    "\n",
    "# Создание объекта BeautifulSoup\n",
    "soup = BeautifulSoup(html_content, 'html.parser')\n",
    "\n",
    "# Находим таблицу с классом 'wikitable sortable'\n",
    "table = soup.find('table', {'class': 'wikitable sortable'})\n",
    "\n",
    "# Извлекаем заголовки таблицы\n",
    "headers = []\n",
    "for th in table.find_all('th'):\n",
    "    headers.append(th.text.strip())\n",
    "\n",
    "# Извлекаем данные из таблицы\n",
    "data = []\n",
    "for row in table.find_all('tr')[1:]:  # Пропускаем первую строку с заголовками\n",
    "    cells = row.find_all(['td', 'th'])\n",
    "    row_data = [cell.text.strip() for cell in cells]\n",
    "    data.append(row_data)\n",
    "\n",
    "# Создаем DataFrame\n",
    "df = pd.DataFrame(data, columns=headers)"
   ]
  },
  {
   "cell_type": "code",
   "execution_count": 5,
   "id": "31105aad",
   "metadata": {},
   "outputs": [
    {
     "name": "stdout",
     "output_type": "stream",
     "text": [
      "                     Река                              Длина (км)  \\\n",
      "0  1             Амазонка   7100 (от истока Укаяли)[1][2] 6400[3]   \n",
      "1  2                  Нил  6670 км (от истока Кагера)[1][3][4][5]   \n",
      "2  3  Миссисипи — Миссури   6420[1][3] 5971[6] (3766 без Миссури)   \n",
      "3  4                Янцзы                   6300[1][8][9] 5800[3]   \n",
      "4  5               Хуанхэ                         5500*[1][9][10]   \n",
      "\n",
      "  Водосборный бассейн (км²) Средний расход воды (м³/с)  \\\n",
      "0                   6915000                     219000   \n",
      "1                   3349000                       5100   \n",
      "2                   2980000                      16200   \n",
      "3                   1800000                      31900   \n",
      "4                    745000                       2110   \n",
      "\n",
      "                   Бассейн                      Страны в водосборном бассейне  \n",
      "0      Атлантический океан  Бразилия, Перу, Боливия, Колумбия, Эквадор, Ве...  \n",
      "1         Средиземное море  Бурунди, Египет, Кения, Конго, Руанда, Судан, ...  \n",
      "2       Мексиканский залив                    США[7] (98,5 %), Канада (1,5 %)  \n",
      "3  Восточно-Китайское море                                                КНР  \n",
      "4          Бохайский залив                                                КНР  \n"
     ]
    }
   ],
   "source": [
    "\n",
    "# Выводим первые несколько строк для проверки\n",
    "print(df.head())"
   ]
  },
  {
   "cell_type": "code",
   "execution_count": null,
   "id": "4eebb58f",
   "metadata": {},
   "outputs": [],
   "source": [
    "\n",
    "# Если нужно сохранить в CSV\n",
    "df.to_csv('rivers_table.csv', index=False, encoding='utf-8')"
   ]
  }
 ],
 "metadata": {
  "kernelspec": {
   "display_name": "Python 3",
   "language": "python",
   "name": "python3"
  },
  "language_info": {
   "codemirror_mode": {
    "name": "ipython",
    "version": 3
   },
   "file_extension": ".py",
   "mimetype": "text/x-python",
   "name": "python",
   "nbconvert_exporter": "python",
   "pygments_lexer": "ipython3",
   "version": "3.12.3"
  }
 },
 "nbformat": 4,
 "nbformat_minor": 5
}
